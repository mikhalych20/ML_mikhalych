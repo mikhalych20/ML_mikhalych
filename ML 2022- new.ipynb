{
 "cells": [
  {
   "cell_type": "markdown",
   "metadata": {},
   "source": [
    "# Stroke Prediction"
   ]
  },
  {
   "cell_type": "markdown",
   "metadata": {},
   "source": [
    "## Описание задачи"
   ]
  },
  {
   "cell_type": "markdown",
   "metadata": {},
   "source": [
    "В датасете содержатся данные информация о некоторой группе людей, которая позволит предсказать вероятность возникновения инсульта "
   ]
  },
  {
   "cell_type": "markdown",
   "metadata": {},
   "source": [
    "## Оригинальное описание"
   ]
  },
  {
   "cell_type": "markdown",
   "metadata": {},
   "source": [
    "According to the World Health Organization (WHO) stroke is the 2nd leading cause of death globally, responsible for approximately 11% of total deaths.\n",
    "This dataset is used to predict whether a patient is likely to get stroke based on the input parameters like gender, age, various diseases, and smoking status. Each row in the data provides relavant information about the patient."
   ]
  },
  {
   "cell_type": "markdown",
   "metadata": {},
   "source": [
    "## Описание признаков:"
   ]
  },
  {
   "cell_type": "markdown",
   "metadata": {},
   "source": [
    "1) id:  уникальный идентификатор\n",
    "\n",
    "2) gender: \"Male\", \"Female\" or \"Other\" - пол пациента \n",
    "\n",
    "3) age: возраст пациента\n",
    "\n",
    "4) hypertension:наличие гипертонии: 0 - у пациента нет гипертонии, 1 - у пациента зафиксирована гипертония\n",
    "\n",
    "5) heart_disease: наличие сердечных заболеваний: 0 - у пациента нет сердечных заболеваний, 1 - у пациента зафиксированы сердечные заболевания\n",
    "\n",
    "6) ever_married:состоит в браке: \"No\" или \"Yes\"\n",
    "\n",
    "7) work_type: тип занятости: \"children\" - ребенок, \"Govt_jov\" - работает, \"Never_worked\"- никогда не работал, \"Private\" - частный работник, \"Self-employed\" - самозанятый\n",
    "\n",
    "8) Residence_type: Тип местности, в который проживает пациент \"Rural\" - сельская, \"Urban\" - городская\n",
    "\n",
    "9) avg_glucose_level: уровень глюкозы в крови\n",
    "\n",
    "10) bmi: индекс массы тела\n",
    "\n",
    "11) smoking_status: отношение к курению \"formerly smoked\" - бросил курить,  \"never smoked\" - никогда не курил, \"smokes\" -курит, \"Unknown\" - нет данных\n",
    "\n",
    "12) stroke: инсульт  1 - у пациента зафиксирован инсульт, 0 - не зафиксирован\n"
   ]
  },
  {
   "cell_type": "code",
   "execution_count": 271,
   "metadata": {},
   "outputs": [],
   "source": [
    "import numpy \n",
    "import numpy as np\n",
    "import matplotlib.pyplot as plt\n",
    "import pandas as pd\n",
    "import seaborn \n",
    "import seaborn as sns\n",
    "import sklearn\n",
    "import os\n",
    "from imblearn.over_sampling import SMOTE\n",
    "from sklearn.metrics import accuracy_score\n",
    "from sklearn.model_selection import train_test_split\n",
    "from sklearn.preprocessing import StandardScaler\n",
    "from sklearn.neural_network import MLPClassifier\n",
    "%matplotlib inline"
   ]
  },
  {
   "cell_type": "markdown",
   "metadata": {},
   "source": [
    "## Загрузка данных"
   ]
  },
  {
   "cell_type": "code",
   "execution_count": 272,
   "metadata": {},
   "outputs": [],
   "source": [
    "url = \"https://raw.githubusercontent.com/mikhalych20/ML_mikhalych/main/healthcare-dataset-stroke-data.csv\"\n",
    "data_raw = pd.read_csv(url)"
   ]
  },
  {
   "cell_type": "code",
   "execution_count": 273,
   "metadata": {},
   "outputs": [
    {
     "data": {
      "text/plain": [
       "pandas.core.frame.DataFrame"
      ]
     },
     "execution_count": 273,
     "metadata": {},
     "output_type": "execute_result"
    }
   ],
   "source": [
    "type(data_raw)"
   ]
  },
  {
   "cell_type": "code",
   "execution_count": 274,
   "metadata": {},
   "outputs": [
    {
     "data": {
      "text/plain": [
       "(5110, 12)"
      ]
     },
     "execution_count": 274,
     "metadata": {},
     "output_type": "execute_result"
    }
   ],
   "source": [
    "data_raw.shape"
   ]
  },
  {
   "cell_type": "markdown",
   "metadata": {},
   "source": [
    "Число объектов - 5110; количество признаков - 12; число классов -2 (наличие или отсутствие инсульта)"
   ]
  },
  {
   "cell_type": "code",
   "execution_count": 275,
   "metadata": {},
   "outputs": [
    {
     "data": {
      "text/html": [
       "<div>\n",
       "<style scoped>\n",
       "    .dataframe tbody tr th:only-of-type {\n",
       "        vertical-align: middle;\n",
       "    }\n",
       "\n",
       "    .dataframe tbody tr th {\n",
       "        vertical-align: top;\n",
       "    }\n",
       "\n",
       "    .dataframe thead th {\n",
       "        text-align: right;\n",
       "    }\n",
       "</style>\n",
       "<table border=\"1\" class=\"dataframe\">\n",
       "  <thead>\n",
       "    <tr style=\"text-align: right;\">\n",
       "      <th></th>\n",
       "      <th>id</th>\n",
       "      <th>gender</th>\n",
       "      <th>age</th>\n",
       "      <th>hypertension</th>\n",
       "      <th>heart_disease</th>\n",
       "      <th>ever_married</th>\n",
       "      <th>work_type</th>\n",
       "      <th>Residence_type</th>\n",
       "      <th>avg_glucose_level</th>\n",
       "      <th>bmi</th>\n",
       "      <th>smoking_status</th>\n",
       "      <th>stroke</th>\n",
       "    </tr>\n",
       "  </thead>\n",
       "  <tbody>\n",
       "    <tr>\n",
       "      <th>0</th>\n",
       "      <td>9046</td>\n",
       "      <td>Male</td>\n",
       "      <td>67.0</td>\n",
       "      <td>0</td>\n",
       "      <td>1</td>\n",
       "      <td>Yes</td>\n",
       "      <td>Private</td>\n",
       "      <td>Urban</td>\n",
       "      <td>228.69</td>\n",
       "      <td>36.6</td>\n",
       "      <td>formerly smoked</td>\n",
       "      <td>1</td>\n",
       "    </tr>\n",
       "    <tr>\n",
       "      <th>1</th>\n",
       "      <td>51676</td>\n",
       "      <td>Female</td>\n",
       "      <td>61.0</td>\n",
       "      <td>0</td>\n",
       "      <td>0</td>\n",
       "      <td>Yes</td>\n",
       "      <td>Self-employed</td>\n",
       "      <td>Rural</td>\n",
       "      <td>202.21</td>\n",
       "      <td>NaN</td>\n",
       "      <td>never smoked</td>\n",
       "      <td>1</td>\n",
       "    </tr>\n",
       "    <tr>\n",
       "      <th>2</th>\n",
       "      <td>31112</td>\n",
       "      <td>Male</td>\n",
       "      <td>80.0</td>\n",
       "      <td>0</td>\n",
       "      <td>1</td>\n",
       "      <td>Yes</td>\n",
       "      <td>Private</td>\n",
       "      <td>Rural</td>\n",
       "      <td>105.92</td>\n",
       "      <td>32.5</td>\n",
       "      <td>never smoked</td>\n",
       "      <td>1</td>\n",
       "    </tr>\n",
       "    <tr>\n",
       "      <th>3</th>\n",
       "      <td>60182</td>\n",
       "      <td>Female</td>\n",
       "      <td>49.0</td>\n",
       "      <td>0</td>\n",
       "      <td>0</td>\n",
       "      <td>Yes</td>\n",
       "      <td>Private</td>\n",
       "      <td>Urban</td>\n",
       "      <td>171.23</td>\n",
       "      <td>34.4</td>\n",
       "      <td>smokes</td>\n",
       "      <td>1</td>\n",
       "    </tr>\n",
       "    <tr>\n",
       "      <th>4</th>\n",
       "      <td>1665</td>\n",
       "      <td>Female</td>\n",
       "      <td>79.0</td>\n",
       "      <td>1</td>\n",
       "      <td>0</td>\n",
       "      <td>Yes</td>\n",
       "      <td>Self-employed</td>\n",
       "      <td>Rural</td>\n",
       "      <td>174.12</td>\n",
       "      <td>24.0</td>\n",
       "      <td>never smoked</td>\n",
       "      <td>1</td>\n",
       "    </tr>\n",
       "    <tr>\n",
       "      <th>...</th>\n",
       "      <td>...</td>\n",
       "      <td>...</td>\n",
       "      <td>...</td>\n",
       "      <td>...</td>\n",
       "      <td>...</td>\n",
       "      <td>...</td>\n",
       "      <td>...</td>\n",
       "      <td>...</td>\n",
       "      <td>...</td>\n",
       "      <td>...</td>\n",
       "      <td>...</td>\n",
       "      <td>...</td>\n",
       "    </tr>\n",
       "    <tr>\n",
       "      <th>5105</th>\n",
       "      <td>18234</td>\n",
       "      <td>Female</td>\n",
       "      <td>80.0</td>\n",
       "      <td>1</td>\n",
       "      <td>0</td>\n",
       "      <td>Yes</td>\n",
       "      <td>Private</td>\n",
       "      <td>Urban</td>\n",
       "      <td>83.75</td>\n",
       "      <td>NaN</td>\n",
       "      <td>never smoked</td>\n",
       "      <td>0</td>\n",
       "    </tr>\n",
       "    <tr>\n",
       "      <th>5106</th>\n",
       "      <td>44873</td>\n",
       "      <td>Female</td>\n",
       "      <td>81.0</td>\n",
       "      <td>0</td>\n",
       "      <td>0</td>\n",
       "      <td>Yes</td>\n",
       "      <td>Self-employed</td>\n",
       "      <td>Urban</td>\n",
       "      <td>125.20</td>\n",
       "      <td>40.0</td>\n",
       "      <td>never smoked</td>\n",
       "      <td>0</td>\n",
       "    </tr>\n",
       "    <tr>\n",
       "      <th>5107</th>\n",
       "      <td>19723</td>\n",
       "      <td>Female</td>\n",
       "      <td>35.0</td>\n",
       "      <td>0</td>\n",
       "      <td>0</td>\n",
       "      <td>Yes</td>\n",
       "      <td>Self-employed</td>\n",
       "      <td>Rural</td>\n",
       "      <td>82.99</td>\n",
       "      <td>30.6</td>\n",
       "      <td>never smoked</td>\n",
       "      <td>0</td>\n",
       "    </tr>\n",
       "    <tr>\n",
       "      <th>5108</th>\n",
       "      <td>37544</td>\n",
       "      <td>Male</td>\n",
       "      <td>51.0</td>\n",
       "      <td>0</td>\n",
       "      <td>0</td>\n",
       "      <td>Yes</td>\n",
       "      <td>Private</td>\n",
       "      <td>Rural</td>\n",
       "      <td>166.29</td>\n",
       "      <td>25.6</td>\n",
       "      <td>formerly smoked</td>\n",
       "      <td>0</td>\n",
       "    </tr>\n",
       "    <tr>\n",
       "      <th>5109</th>\n",
       "      <td>44679</td>\n",
       "      <td>Female</td>\n",
       "      <td>44.0</td>\n",
       "      <td>0</td>\n",
       "      <td>0</td>\n",
       "      <td>Yes</td>\n",
       "      <td>Govt_job</td>\n",
       "      <td>Urban</td>\n",
       "      <td>85.28</td>\n",
       "      <td>26.2</td>\n",
       "      <td>Unknown</td>\n",
       "      <td>0</td>\n",
       "    </tr>\n",
       "  </tbody>\n",
       "</table>\n",
       "<p>5110 rows × 12 columns</p>\n",
       "</div>"
      ],
      "text/plain": [
       "         id  gender   age  hypertension  heart_disease ever_married  \\\n",
       "0      9046    Male  67.0             0              1          Yes   \n",
       "1     51676  Female  61.0             0              0          Yes   \n",
       "2     31112    Male  80.0             0              1          Yes   \n",
       "3     60182  Female  49.0             0              0          Yes   \n",
       "4      1665  Female  79.0             1              0          Yes   \n",
       "...     ...     ...   ...           ...            ...          ...   \n",
       "5105  18234  Female  80.0             1              0          Yes   \n",
       "5106  44873  Female  81.0             0              0          Yes   \n",
       "5107  19723  Female  35.0             0              0          Yes   \n",
       "5108  37544    Male  51.0             0              0          Yes   \n",
       "5109  44679  Female  44.0             0              0          Yes   \n",
       "\n",
       "          work_type Residence_type  avg_glucose_level   bmi   smoking_status  \\\n",
       "0           Private          Urban             228.69  36.6  formerly smoked   \n",
       "1     Self-employed          Rural             202.21   NaN     never smoked   \n",
       "2           Private          Rural             105.92  32.5     never smoked   \n",
       "3           Private          Urban             171.23  34.4           smokes   \n",
       "4     Self-employed          Rural             174.12  24.0     never smoked   \n",
       "...             ...            ...                ...   ...              ...   \n",
       "5105        Private          Urban              83.75   NaN     never smoked   \n",
       "5106  Self-employed          Urban             125.20  40.0     never smoked   \n",
       "5107  Self-employed          Rural              82.99  30.6     never smoked   \n",
       "5108        Private          Rural             166.29  25.6  formerly smoked   \n",
       "5109       Govt_job          Urban              85.28  26.2          Unknown   \n",
       "\n",
       "      stroke  \n",
       "0          1  \n",
       "1          1  \n",
       "2          1  \n",
       "3          1  \n",
       "4          1  \n",
       "...      ...  \n",
       "5105       0  \n",
       "5106       0  \n",
       "5107       0  \n",
       "5108       0  \n",
       "5109       0  \n",
       "\n",
       "[5110 rows x 12 columns]"
      ]
     },
     "execution_count": 275,
     "metadata": {},
     "output_type": "execute_result"
    }
   ],
   "source": [
    "data_raw"
   ]
  },
  {
   "cell_type": "markdown",
   "metadata": {},
   "source": [
    "##  Визуализация данных"
   ]
  },
  {
   "cell_type": "markdown",
   "metadata": {},
   "source": [
    "### Посмотрим предварительную зависимость наличия инсульта от некоторых данных о пациенте "
   ]
  },
  {
   "cell_type": "code",
   "execution_count": 276,
   "metadata": {},
   "outputs": [
    {
     "data": {
      "image/png": "[encoded data removed]",
      "text/plain": [
       "<Figure size 432x288 with 1 Axes>"
      ]
     },
     "metadata": {
      "needs_background": "light"
     },
     "output_type": "display_data"
    }
   ],
   "source": [
    "sns.countplot(x = 'stroke', hue = 'ever_married', data = data_raw)\n",
    "pass"
   ]
  },
  {
   "cell_type": "markdown",
   "metadata": {},
   "source": [
    "Видим, что многие из пациентов, предоставивших свои данные, состоят в браке"
   ]
  },
  {
   "cell_type": "code",
   "execution_count": 277,
   "metadata": {},
   "outputs": [
    {
     "data": {
      "image/png": "[encoded data removed]",
      "text/plain": [
       "<Figure size 432x288 with 1 Axes>"
      ]
     },
     "metadata": {
      "needs_background": "light"
     },
     "output_type": "display_data"
    }
   ],
   "source": [
    "sns.countplot(x = 'stroke', hue = 'gender', data = data_raw)\n",
    "pass"
   ]
  },
  {
   "cell_type": "markdown",
   "metadata": {},
   "source": [
    "В опросе приняло участие больше женщин, чем мужчин"
   ]
  },
  {
   "cell_type": "code",
   "execution_count": 278,
   "metadata": {},
   "outputs": [
    {
     "data": {
      "image/png": "[encoded data removed]",
      "text/plain": [
       "<Figure size 432x288 with 1 Axes>"
      ]
     },
     "metadata": {
      "needs_background": "light"
     },
     "output_type": "display_data"
    }
   ],
   "source": [
    "sns.countplot(x = 'stroke', hue = 'Residence_type', data = data_raw)\n",
    "pass"
   ]
  },
  {
   "cell_type": "markdown",
   "metadata": {},
   "source": [
    "Число людей проживающих в городской и сельской местности примерно одинаково"
   ]
  },
  {
   "cell_type": "code",
   "execution_count": 279,
   "metadata": {},
   "outputs": [
    {
     "data": {
      "image/png": "[encoded data removed]",
      "text/plain": [
       "<Figure size 432x288 with 1 Axes>"
      ]
     },
     "metadata": {
      "needs_background": "light"
     },
     "output_type": "display_data"
    }
   ],
   "source": [
    "sns.countplot(x = 'stroke', hue = 'smoking_status', data = data_raw)\n",
    "pass"
   ]
  },
  {
   "cell_type": "markdown",
   "metadata": {},
   "source": [
    "Многие пациенты не предоставили данные о своем отношении к курению, так же многие сообщили, что никогда не курили"
   ]
  },
  {
   "cell_type": "code",
   "execution_count": 280,
   "metadata": {},
   "outputs": [
    {
     "data": {
      "image/png": "[encoded data removed]",
      "text/plain": [
       "<Figure size 432x288 with 1 Axes>"
      ]
     },
     "metadata": {
      "needs_background": "light"
     },
     "output_type": "display_data"
    }
   ],
   "source": [
    "sns.countplot(x = 'stroke', hue = 'hypertension', data = data_raw)\n",
    "pass"
   ]
  },
  {
   "cell_type": "markdown",
   "metadata": {},
   "source": [
    "Многие  из пациентов не сталкивались с гипертонией"
   ]
  },
  {
   "cell_type": "code",
   "execution_count": 281,
   "metadata": {},
   "outputs": [
    {
     "data": {
      "image/png": "[encoded data removed]",
      "text/plain": [
       "<Figure size 432x288 with 1 Axes>"
      ]
     },
     "metadata": {
      "needs_background": "light"
     },
     "output_type": "display_data"
    }
   ],
   "source": [
    "sns.countplot(x = 'stroke', hue = 'heart_disease', data = data_raw)\n",
    "pass"
   ]
  },
  {
   "cell_type": "markdown",
   "metadata": {},
   "source": [
    "Многие пациенты не страдают от сердечных заболеваний "
   ]
  },
  {
   "cell_type": "code",
   "execution_count": 282,
   "metadata": {},
   "outputs": [
    {
     "data": {
      "text/plain": [
       "<matplotlib.collections.PathCollection at 0x1dc21f768e0>"
      ]
     },
     "execution_count": 282,
     "metadata": {},
     "output_type": "execute_result"
    },
    {
     "data": {
      "image/png": "[encoded data removed]",
      "text/plain": [
       "<Figure size 432x288 with 1 Axes>"
      ]
     },
     "metadata": {
      "needs_background": "light"
     },
     "output_type": "display_data"
    }
   ],
   "source": [
    "plt.scatter(data_raw['age'], data_raw['stroke'], alpha = 0.1)"
   ]
  },
  {
   "cell_type": "markdown",
   "metadata": {},
   "source": [
    "Как показано на диаграмме, среди пациентов более старшего возраста инсульт встречается чаще"
   ]
  },
  {
   "cell_type": "code",
   "execution_count": 283,
   "metadata": {},
   "outputs": [
    {
     "data": {
      "text/plain": [
       "<matplotlib.collections.PathCollection at 0x1dc21f76c40>"
      ]
     },
     "execution_count": 283,
     "metadata": {},
     "output_type": "execute_result"
    },
    {
     "data": {
      "image/png": "[encoded data removed]",
      "text/plain": [
       "<Figure size 432x288 with 1 Axes>"
      ]
     },
     "metadata": {
      "needs_background": "light"
     },
     "output_type": "display_data"
    }
   ],
   "source": [
    "plt.scatter(data_raw['avg_glucose_level'], data_raw['stroke'], alpha = 0.1)"
   ]
  },
  {
   "cell_type": "markdown",
   "metadata": {},
   "source": [
    "Видим, что меньше всего инсульту подвержены пациенты со средним уровнем глюкозы в крови"
   ]
  },
  {
   "cell_type": "code",
   "execution_count": 284,
   "metadata": {},
   "outputs": [
    {
     "data": {
      "text/plain": [
       "<matplotlib.collections.PathCollection at 0x1dc2258f580>"
      ]
     },
     "execution_count": 284,
     "metadata": {},
     "output_type": "execute_result"
    },
    {
     "data": {
      "image/png": "[encoded data removed]",
      "text/plain": [
       "<Figure size 432x288 with 1 Axes>"
      ]
     },
     "metadata": {
      "needs_background": "light"
     },
     "output_type": "display_data"
    }
   ],
   "source": [
    "plt.scatter(data_raw['bmi'], data_raw['stroke'], alpha = 0.1)"
   ]
  },
  {
   "cell_type": "markdown",
   "metadata": {},
   "source": [
    "Видим, что в статиску вошли в основном люди с различным индексом массы тела. На основе общепринятой расшифровки показателей индекса массы тела можно сделать вывод, что люди, страдающие ожирением (т.е. имеющие индекс больше 25) больше подвержены инсульту, чем люди с нормальным и недостаточным весом"
   ]
  },
  {
   "cell_type": "markdown",
   "metadata": {},
   "source": [
    "## Преобразование датасета"
   ]
  },
  {
   "cell_type": "code",
   "execution_count": 285,
   "metadata": {},
   "outputs": [],
   "source": [
    "data_raw=data_raw.drop(['id'], axis=1)"
   ]
  },
  {
   "cell_type": "markdown",
   "metadata": {},
   "source": [
    "Проверим, является ли наша статистика сбалансированной:"
   ]
  },
  {
   "cell_type": "code",
   "execution_count": 286,
   "metadata": {},
   "outputs": [
    {
     "data": {
      "text/plain": [
       "<matplotlib.axes._subplots.AxesSubplot at 0x1dc225c35e0>"
      ]
     },
     "execution_count": 286,
     "metadata": {},
     "output_type": "execute_result"
    },
    {
     "data": {
      "image/png": "[encoded data removed]",
      "text/plain": [
       "<Figure size 432x288 with 1 Axes>"
      ]
     },
     "metadata": {
      "needs_background": "light"
     },
     "output_type": "display_data"
    }
   ],
   "source": [
    "sns.countplot(x = 'stroke', data = data_raw)"
   ]
  },
  {
   "cell_type": "markdown",
   "metadata": {},
   "source": [
    "Многие из пациентов, прошедших опрос, не сталкивались с инсультом"
   ]
  },
  {
   "cell_type": "markdown",
   "metadata": {},
   "source": [
    "В датасете присутствуют следуюие типы:\n",
    "1. Gender, Hypertension, Heart Disease, Ever Married, Stroke, Residense Type - бинарные признаки;\n",
    "2. Id, Age, Awd Glucose Level, BMI - числовые признаки;\n",
    "3. Work Type, Smoking Status - категориальные признаки."
   ]
  },
  {
   "cell_type": "markdown",
   "metadata": {},
   "source": [
    "Проверим датасет на наличие пропущенных значений:"
   ]
  },
  {
   "cell_type": "code",
   "execution_count": 287,
   "metadata": {},
   "outputs": [
    {
     "data": {
      "text/plain": [
       "gender                 0\n",
       "age                    0\n",
       "hypertension           0\n",
       "heart_disease          0\n",
       "ever_married           0\n",
       "work_type              0\n",
       "Residence_type         0\n",
       "avg_glucose_level      0\n",
       "bmi                  201\n",
       "smoking_status         0\n",
       "stroke                 0\n",
       "dtype: int64"
      ]
     },
     "execution_count": 287,
     "metadata": {},
     "output_type": "execute_result"
    }
   ],
   "source": [
    "data_raw.isna().sum()"
   ]
  },
  {
   "cell_type": "code",
   "execution_count": 288,
   "metadata": {},
   "outputs": [],
   "source": [
    "data_raw['bmi'].fillna(data_raw['bmi'].median(axis = 0), axis = 0, inplace = True)\n",
    "data_raw.fillna(data_raw.mode().iloc[0], inplace = True)"
   ]
  },
  {
   "cell_type": "code",
   "execution_count": 289,
   "metadata": {},
   "outputs": [],
   "source": [
    "probabilities = data_raw['smoking_status'].value_counts(normalize=True)\n",
    "missing = data_raw['smoking_status'].isnull()\n",
    "data_raw.loc[missing, 'smoking_status'] = numpy.random.choice(probabilities.index, size=len(data_raw[missing]), p=probabilities.values)"
   ]
  },
  {
   "cell_type": "code",
   "execution_count": 290,
   "metadata": {},
   "outputs": [
    {
     "data": {
      "text/plain": [
       "gender               0\n",
       "age                  0\n",
       "hypertension         0\n",
       "heart_disease        0\n",
       "ever_married         0\n",
       "work_type            0\n",
       "Residence_type       0\n",
       "avg_glucose_level    0\n",
       "bmi                  0\n",
       "smoking_status       0\n",
       "stroke               0\n",
       "dtype: int64"
      ]
     },
     "execution_count": 290,
     "metadata": {},
     "output_type": "execute_result"
    }
   ],
   "source": [
    "data_raw.isna().sum()"
   ]
  },
  {
   "cell_type": "markdown",
   "metadata": {},
   "source": [
    "Обработка бинарных признаков"
   ]
  },
  {
   "cell_type": "code",
   "execution_count": 291,
   "metadata": {},
   "outputs": [],
   "source": [
    "data_raw['gender'] = pd.factorize(data_raw['gender'])[0]\n",
    "data_raw['ever_married'] = pd.factorize(data_raw['ever_married'])[0]\n",
    "data_raw['Residence_type'] = pd.factorize(data_raw['Residence_type'])[0]"
   ]
  },
  {
   "cell_type": "code",
   "execution_count": 292,
   "metadata": {},
   "outputs": [
    {
     "data": {
      "text/html": [
       "<div>\n",
       "<style scoped>\n",
       "    .dataframe tbody tr th:only-of-type {\n",
       "        vertical-align: middle;\n",
       "    }\n",
       "\n",
       "    .dataframe tbody tr th {\n",
       "        vertical-align: top;\n",
       "    }\n",
       "\n",
       "    .dataframe thead th {\n",
       "        text-align: right;\n",
       "    }\n",
       "</style>\n",
       "<table border=\"1\" class=\"dataframe\">\n",
       "  <thead>\n",
       "    <tr style=\"text-align: right;\">\n",
       "      <th></th>\n",
       "      <th>gender</th>\n",
       "      <th>age</th>\n",
       "      <th>hypertension</th>\n",
       "      <th>heart_disease</th>\n",
       "      <th>ever_married</th>\n",
       "      <th>work_type</th>\n",
       "      <th>Residence_type</th>\n",
       "      <th>avg_glucose_level</th>\n",
       "      <th>bmi</th>\n",
       "      <th>smoking_status</th>\n",
       "      <th>stroke</th>\n",
       "    </tr>\n",
       "  </thead>\n",
       "  <tbody>\n",
       "    <tr>\n",
       "      <th>0</th>\n",
       "      <td>0</td>\n",
       "      <td>67.0</td>\n",
       "      <td>0</td>\n",
       "      <td>1</td>\n",
       "      <td>0</td>\n",
       "      <td>Private</td>\n",
       "      <td>0</td>\n",
       "      <td>228.69</td>\n",
       "      <td>36.6</td>\n",
       "      <td>formerly smoked</td>\n",
       "      <td>1</td>\n",
       "    </tr>\n",
       "    <tr>\n",
       "      <th>1</th>\n",
       "      <td>1</td>\n",
       "      <td>61.0</td>\n",
       "      <td>0</td>\n",
       "      <td>0</td>\n",
       "      <td>0</td>\n",
       "      <td>Self-employed</td>\n",
       "      <td>1</td>\n",
       "      <td>202.21</td>\n",
       "      <td>28.1</td>\n",
       "      <td>never smoked</td>\n",
       "      <td>1</td>\n",
       "    </tr>\n",
       "    <tr>\n",
       "      <th>2</th>\n",
       "      <td>0</td>\n",
       "      <td>80.0</td>\n",
       "      <td>0</td>\n",
       "      <td>1</td>\n",
       "      <td>0</td>\n",
       "      <td>Private</td>\n",
       "      <td>1</td>\n",
       "      <td>105.92</td>\n",
       "      <td>32.5</td>\n",
       "      <td>never smoked</td>\n",
       "      <td>1</td>\n",
       "    </tr>\n",
       "    <tr>\n",
       "      <th>3</th>\n",
       "      <td>1</td>\n",
       "      <td>49.0</td>\n",
       "      <td>0</td>\n",
       "      <td>0</td>\n",
       "      <td>0</td>\n",
       "      <td>Private</td>\n",
       "      <td>0</td>\n",
       "      <td>171.23</td>\n",
       "      <td>34.4</td>\n",
       "      <td>smokes</td>\n",
       "      <td>1</td>\n",
       "    </tr>\n",
       "    <tr>\n",
       "      <th>4</th>\n",
       "      <td>1</td>\n",
       "      <td>79.0</td>\n",
       "      <td>1</td>\n",
       "      <td>0</td>\n",
       "      <td>0</td>\n",
       "      <td>Self-employed</td>\n",
       "      <td>1</td>\n",
       "      <td>174.12</td>\n",
       "      <td>24.0</td>\n",
       "      <td>never smoked</td>\n",
       "      <td>1</td>\n",
       "    </tr>\n",
       "    <tr>\n",
       "      <th>...</th>\n",
       "      <td>...</td>\n",
       "      <td>...</td>\n",
       "      <td>...</td>\n",
       "      <td>...</td>\n",
       "      <td>...</td>\n",
       "      <td>...</td>\n",
       "      <td>...</td>\n",
       "      <td>...</td>\n",
       "      <td>...</td>\n",
       "      <td>...</td>\n",
       "      <td>...</td>\n",
       "    </tr>\n",
       "    <tr>\n",
       "      <th>5105</th>\n",
       "      <td>1</td>\n",
       "      <td>80.0</td>\n",
       "      <td>1</td>\n",
       "      <td>0</td>\n",
       "      <td>0</td>\n",
       "      <td>Private</td>\n",
       "      <td>0</td>\n",
       "      <td>83.75</td>\n",
       "      <td>28.1</td>\n",
       "      <td>never smoked</td>\n",
       "      <td>0</td>\n",
       "    </tr>\n",
       "    <tr>\n",
       "      <th>5106</th>\n",
       "      <td>1</td>\n",
       "      <td>81.0</td>\n",
       "      <td>0</td>\n",
       "      <td>0</td>\n",
       "      <td>0</td>\n",
       "      <td>Self-employed</td>\n",
       "      <td>0</td>\n",
       "      <td>125.20</td>\n",
       "      <td>40.0</td>\n",
       "      <td>never smoked</td>\n",
       "      <td>0</td>\n",
       "    </tr>\n",
       "    <tr>\n",
       "      <th>5107</th>\n",
       "      <td>1</td>\n",
       "      <td>35.0</td>\n",
       "      <td>0</td>\n",
       "      <td>0</td>\n",
       "      <td>0</td>\n",
       "      <td>Self-employed</td>\n",
       "      <td>1</td>\n",
       "      <td>82.99</td>\n",
       "      <td>30.6</td>\n",
       "      <td>never smoked</td>\n",
       "      <td>0</td>\n",
       "    </tr>\n",
       "    <tr>\n",
       "      <th>5108</th>\n",
       "      <td>0</td>\n",
       "      <td>51.0</td>\n",
       "      <td>0</td>\n",
       "      <td>0</td>\n",
       "      <td>0</td>\n",
       "      <td>Private</td>\n",
       "      <td>1</td>\n",
       "      <td>166.29</td>\n",
       "      <td>25.6</td>\n",
       "      <td>formerly smoked</td>\n",
       "      <td>0</td>\n",
       "    </tr>\n",
       "    <tr>\n",
       "      <th>5109</th>\n",
       "      <td>1</td>\n",
       "      <td>44.0</td>\n",
       "      <td>0</td>\n",
       "      <td>0</td>\n",
       "      <td>0</td>\n",
       "      <td>Govt_job</td>\n",
       "      <td>0</td>\n",
       "      <td>85.28</td>\n",
       "      <td>26.2</td>\n",
       "      <td>Unknown</td>\n",
       "      <td>0</td>\n",
       "    </tr>\n",
       "  </tbody>\n",
       "</table>\n",
       "<p>5110 rows × 11 columns</p>\n",
       "</div>"
      ],
      "text/plain": [
       "      gender   age  hypertension  heart_disease  ever_married      work_type  \\\n",
       "0          0  67.0             0              1             0        Private   \n",
       "1          1  61.0             0              0             0  Self-employed   \n",
       "2          0  80.0             0              1             0        Private   \n",
       "3          1  49.0             0              0             0        Private   \n",
       "4          1  79.0             1              0             0  Self-employed   \n",
       "...      ...   ...           ...            ...           ...            ...   \n",
       "5105       1  80.0             1              0             0        Private   \n",
       "5106       1  81.0             0              0             0  Self-employed   \n",
       "5107       1  35.0             0              0             0  Self-employed   \n",
       "5108       0  51.0             0              0             0        Private   \n",
       "5109       1  44.0             0              0             0       Govt_job   \n",
       "\n",
       "      Residence_type  avg_glucose_level   bmi   smoking_status  stroke  \n",
       "0                  0             228.69  36.6  formerly smoked       1  \n",
       "1                  1             202.21  28.1     never smoked       1  \n",
       "2                  1             105.92  32.5     never smoked       1  \n",
       "3                  0             171.23  34.4           smokes       1  \n",
       "4                  1             174.12  24.0     never smoked       1  \n",
       "...              ...                ...   ...              ...     ...  \n",
       "5105               0              83.75  28.1     never smoked       0  \n",
       "5106               0             125.20  40.0     never smoked       0  \n",
       "5107               1              82.99  30.6     never smoked       0  \n",
       "5108               1             166.29  25.6  formerly smoked       0  \n",
       "5109               0              85.28  26.2          Unknown       0  \n",
       "\n",
       "[5110 rows x 11 columns]"
      ]
     },
     "execution_count": 292,
     "metadata": {},
     "output_type": "execute_result"
    }
   ],
   "source": [
    "data_raw"
   ]
  },
  {
   "cell_type": "markdown",
   "metadata": {},
   "source": [
    "Обработаем категориальные признаки:"
   ]
  },
  {
   "cell_type": "code",
   "execution_count": 293,
   "metadata": {},
   "outputs": [
    {
     "name": "stdout",
     "output_type": "stream",
     "text": [
      "<class 'pandas.core.frame.DataFrame'>\n",
      "RangeIndex: 5110 entries, 0 to 5109\n",
      "Data columns (total 11 columns):\n",
      " #   Column             Non-Null Count  Dtype  \n",
      "---  ------             --------------  -----  \n",
      " 0   gender             5110 non-null   int64  \n",
      " 1   age                5110 non-null   float64\n",
      " 2   hypertension       5110 non-null   int64  \n",
      " 3   heart_disease      5110 non-null   int64  \n",
      " 4   ever_married       5110 non-null   int64  \n",
      " 5   work_type          5110 non-null   object \n",
      " 6   Residence_type     5110 non-null   int64  \n",
      " 7   avg_glucose_level  5110 non-null   float64\n",
      " 8   bmi                5110 non-null   float64\n",
      " 9   smoking_status     5110 non-null   object \n",
      " 10  stroke             5110 non-null   int64  \n",
      "dtypes: float64(3), int64(6), object(2)\n",
      "memory usage: 439.3+ KB\n"
     ]
    }
   ],
   "source": [
    "data_raw.info()"
   ]
  },
  {
   "cell_type": "code",
   "execution_count": 294,
   "metadata": {},
   "outputs": [],
   "source": [
    "data_raw['gender'] = data_raw['gender'].astype('category')\n",
    "data_raw['ever_married'] = data_raw['ever_married'].astype('category')\n",
    "data_raw['work_type'] = data_raw['work_type'].astype('category')\n",
    "data_raw['Residence_type'] = data_raw['Residence_type'].astype('category')\n",
    "data_raw['smoking_status'] = data_raw['smoking_status'].astype('category')"
   ]
  },
  {
   "cell_type": "code",
   "execution_count": 295,
   "metadata": {},
   "outputs": [
    {
     "name": "stdout",
     "output_type": "stream",
     "text": [
      "<class 'pandas.core.frame.DataFrame'>\n",
      "RangeIndex: 5110 entries, 0 to 5109\n",
      "Data columns (total 11 columns):\n",
      " #   Column             Non-Null Count  Dtype   \n",
      "---  ------             --------------  -----   \n",
      " 0   gender             5110 non-null   category\n",
      " 1   age                5110 non-null   float64 \n",
      " 2   hypertension       5110 non-null   int64   \n",
      " 3   heart_disease      5110 non-null   int64   \n",
      " 4   ever_married       5110 non-null   category\n",
      " 5   work_type          5110 non-null   category\n",
      " 6   Residence_type     5110 non-null   category\n",
      " 7   avg_glucose_level  5110 non-null   float64 \n",
      " 8   bmi                5110 non-null   float64 \n",
      " 9   smoking_status     5110 non-null   category\n",
      " 10  stroke             5110 non-null   int64   \n",
      "dtypes: category(5), float64(3), int64(3)\n",
      "memory usage: 265.3 KB\n"
     ]
    }
   ],
   "source": [
    "data_raw.info()"
   ]
  },
  {
   "cell_type": "code",
   "execution_count": 296,
   "metadata": {},
   "outputs": [],
   "source": [
    "work_type_dummies = pd.get_dummies(data_raw['work_type'])\n",
    "data_raw = pd.concat((data_raw, work_type_dummies), axis = 1)\n",
    "data_raw = data_raw.drop(['work_type'], axis = 1)\n",
    "smoking_status_dummies = pd.get_dummies(data_raw['smoking_status'])\n",
    "data_raw = pd.concat((data_raw, smoking_status_dummies), axis = 1)\n",
    "data_raw = data_raw.drop(['smoking_status'], axis = 1)"
   ]
  },
  {
   "cell_type": "code",
   "execution_count": 297,
   "metadata": {},
   "outputs": [
    {
     "data": {
      "text/html": [
       "<div>\n",
       "<style scoped>\n",
       "    .dataframe tbody tr th:only-of-type {\n",
       "        vertical-align: middle;\n",
       "    }\n",
       "\n",
       "    .dataframe tbody tr th {\n",
       "        vertical-align: top;\n",
       "    }\n",
       "\n",
       "    .dataframe thead th {\n",
       "        text-align: right;\n",
       "    }\n",
       "</style>\n",
       "<table border=\"1\" class=\"dataframe\">\n",
       "  <thead>\n",
       "    <tr style=\"text-align: right;\">\n",
       "      <th></th>\n",
       "      <th>gender</th>\n",
       "      <th>age</th>\n",
       "      <th>hypertension</th>\n",
       "      <th>heart_disease</th>\n",
       "      <th>ever_married</th>\n",
       "      <th>Residence_type</th>\n",
       "      <th>avg_glucose_level</th>\n",
       "      <th>bmi</th>\n",
       "      <th>stroke</th>\n",
       "      <th>Govt_job</th>\n",
       "      <th>Never_worked</th>\n",
       "      <th>Private</th>\n",
       "      <th>Self-employed</th>\n",
       "      <th>children</th>\n",
       "      <th>Unknown</th>\n",
       "      <th>formerly smoked</th>\n",
       "      <th>never smoked</th>\n",
       "      <th>smokes</th>\n",
       "    </tr>\n",
       "  </thead>\n",
       "  <tbody>\n",
       "    <tr>\n",
       "      <th>0</th>\n",
       "      <td>0</td>\n",
       "      <td>67.0</td>\n",
       "      <td>0</td>\n",
       "      <td>1</td>\n",
       "      <td>0</td>\n",
       "      <td>0</td>\n",
       "      <td>228.69</td>\n",
       "      <td>36.6</td>\n",
       "      <td>1</td>\n",
       "      <td>0</td>\n",
       "      <td>0</td>\n",
       "      <td>1</td>\n",
       "      <td>0</td>\n",
       "      <td>0</td>\n",
       "      <td>0</td>\n",
       "      <td>1</td>\n",
       "      <td>0</td>\n",
       "      <td>0</td>\n",
       "    </tr>\n",
       "    <tr>\n",
       "      <th>1</th>\n",
       "      <td>1</td>\n",
       "      <td>61.0</td>\n",
       "      <td>0</td>\n",
       "      <td>0</td>\n",
       "      <td>0</td>\n",
       "      <td>1</td>\n",
       "      <td>202.21</td>\n",
       "      <td>28.1</td>\n",
       "      <td>1</td>\n",
       "      <td>0</td>\n",
       "      <td>0</td>\n",
       "      <td>0</td>\n",
       "      <td>1</td>\n",
       "      <td>0</td>\n",
       "      <td>0</td>\n",
       "      <td>0</td>\n",
       "      <td>1</td>\n",
       "      <td>0</td>\n",
       "    </tr>\n",
       "    <tr>\n",
       "      <th>2</th>\n",
       "      <td>0</td>\n",
       "      <td>80.0</td>\n",
       "      <td>0</td>\n",
       "      <td>1</td>\n",
       "      <td>0</td>\n",
       "      <td>1</td>\n",
       "      <td>105.92</td>\n",
       "      <td>32.5</td>\n",
       "      <td>1</td>\n",
       "      <td>0</td>\n",
       "      <td>0</td>\n",
       "      <td>1</td>\n",
       "      <td>0</td>\n",
       "      <td>0</td>\n",
       "      <td>0</td>\n",
       "      <td>0</td>\n",
       "      <td>1</td>\n",
       "      <td>0</td>\n",
       "    </tr>\n",
       "    <tr>\n",
       "      <th>3</th>\n",
       "      <td>1</td>\n",
       "      <td>49.0</td>\n",
       "      <td>0</td>\n",
       "      <td>0</td>\n",
       "      <td>0</td>\n",
       "      <td>0</td>\n",
       "      <td>171.23</td>\n",
       "      <td>34.4</td>\n",
       "      <td>1</td>\n",
       "      <td>0</td>\n",
       "      <td>0</td>\n",
       "      <td>1</td>\n",
       "      <td>0</td>\n",
       "      <td>0</td>\n",
       "      <td>0</td>\n",
       "      <td>0</td>\n",
       "      <td>0</td>\n",
       "      <td>1</td>\n",
       "    </tr>\n",
       "    <tr>\n",
       "      <th>4</th>\n",
       "      <td>1</td>\n",
       "      <td>79.0</td>\n",
       "      <td>1</td>\n",
       "      <td>0</td>\n",
       "      <td>0</td>\n",
       "      <td>1</td>\n",
       "      <td>174.12</td>\n",
       "      <td>24.0</td>\n",
       "      <td>1</td>\n",
       "      <td>0</td>\n",
       "      <td>0</td>\n",
       "      <td>0</td>\n",
       "      <td>1</td>\n",
       "      <td>0</td>\n",
       "      <td>0</td>\n",
       "      <td>0</td>\n",
       "      <td>1</td>\n",
       "      <td>0</td>\n",
       "    </tr>\n",
       "    <tr>\n",
       "      <th>...</th>\n",
       "      <td>...</td>\n",
       "      <td>...</td>\n",
       "      <td>...</td>\n",
       "      <td>...</td>\n",
       "      <td>...</td>\n",
       "      <td>...</td>\n",
       "      <td>...</td>\n",
       "      <td>...</td>\n",
       "      <td>...</td>\n",
       "      <td>...</td>\n",
       "      <td>...</td>\n",
       "      <td>...</td>\n",
       "      <td>...</td>\n",
       "      <td>...</td>\n",
       "      <td>...</td>\n",
       "      <td>...</td>\n",
       "      <td>...</td>\n",
       "      <td>...</td>\n",
       "    </tr>\n",
       "    <tr>\n",
       "      <th>5105</th>\n",
       "      <td>1</td>\n",
       "      <td>80.0</td>\n",
       "      <td>1</td>\n",
       "      <td>0</td>\n",
       "      <td>0</td>\n",
       "      <td>0</td>\n",
       "      <td>83.75</td>\n",
       "      <td>28.1</td>\n",
       "      <td>0</td>\n",
       "      <td>0</td>\n",
       "      <td>0</td>\n",
       "      <td>1</td>\n",
       "      <td>0</td>\n",
       "      <td>0</td>\n",
       "      <td>0</td>\n",
       "      <td>0</td>\n",
       "      <td>1</td>\n",
       "      <td>0</td>\n",
       "    </tr>\n",
       "    <tr>\n",
       "      <th>5106</th>\n",
       "      <td>1</td>\n",
       "      <td>81.0</td>\n",
       "      <td>0</td>\n",
       "      <td>0</td>\n",
       "      <td>0</td>\n",
       "      <td>0</td>\n",
       "      <td>125.20</td>\n",
       "      <td>40.0</td>\n",
       "      <td>0</td>\n",
       "      <td>0</td>\n",
       "      <td>0</td>\n",
       "      <td>0</td>\n",
       "      <td>1</td>\n",
       "      <td>0</td>\n",
       "      <td>0</td>\n",
       "      <td>0</td>\n",
       "      <td>1</td>\n",
       "      <td>0</td>\n",
       "    </tr>\n",
       "    <tr>\n",
       "      <th>5107</th>\n",
       "      <td>1</td>\n",
       "      <td>35.0</td>\n",
       "      <td>0</td>\n",
       "      <td>0</td>\n",
       "      <td>0</td>\n",
       "      <td>1</td>\n",
       "      <td>82.99</td>\n",
       "      <td>30.6</td>\n",
       "      <td>0</td>\n",
       "      <td>0</td>\n",
       "      <td>0</td>\n",
       "      <td>0</td>\n",
       "      <td>1</td>\n",
       "      <td>0</td>\n",
       "      <td>0</td>\n",
       "      <td>0</td>\n",
       "      <td>1</td>\n",
       "      <td>0</td>\n",
       "    </tr>\n",
       "    <tr>\n",
       "      <th>5108</th>\n",
       "      <td>0</td>\n",
       "      <td>51.0</td>\n",
       "      <td>0</td>\n",
       "      <td>0</td>\n",
       "      <td>0</td>\n",
       "      <td>1</td>\n",
       "      <td>166.29</td>\n",
       "      <td>25.6</td>\n",
       "      <td>0</td>\n",
       "      <td>0</td>\n",
       "      <td>0</td>\n",
       "      <td>1</td>\n",
       "      <td>0</td>\n",
       "      <td>0</td>\n",
       "      <td>0</td>\n",
       "      <td>1</td>\n",
       "      <td>0</td>\n",
       "      <td>0</td>\n",
       "    </tr>\n",
       "    <tr>\n",
       "      <th>5109</th>\n",
       "      <td>1</td>\n",
       "      <td>44.0</td>\n",
       "      <td>0</td>\n",
       "      <td>0</td>\n",
       "      <td>0</td>\n",
       "      <td>0</td>\n",
       "      <td>85.28</td>\n",
       "      <td>26.2</td>\n",
       "      <td>0</td>\n",
       "      <td>1</td>\n",
       "      <td>0</td>\n",
       "      <td>0</td>\n",
       "      <td>0</td>\n",
       "      <td>0</td>\n",
       "      <td>1</td>\n",
       "      <td>0</td>\n",
       "      <td>0</td>\n",
       "      <td>0</td>\n",
       "    </tr>\n",
       "  </tbody>\n",
       "</table>\n",
       "<p>5110 rows × 18 columns</p>\n",
       "</div>"
      ],
      "text/plain": [
       "     gender   age  hypertension  heart_disease ever_married Residence_type  \\\n",
       "0         0  67.0             0              1            0              0   \n",
       "1         1  61.0             0              0            0              1   \n",
       "2         0  80.0             0              1            0              1   \n",
       "3         1  49.0             0              0            0              0   \n",
       "4         1  79.0             1              0            0              1   \n",
       "...     ...   ...           ...            ...          ...            ...   \n",
       "5105      1  80.0             1              0            0              0   \n",
       "5106      1  81.0             0              0            0              0   \n",
       "5107      1  35.0             0              0            0              1   \n",
       "5108      0  51.0             0              0            0              1   \n",
       "5109      1  44.0             0              0            0              0   \n",
       "\n",
       "      avg_glucose_level   bmi  stroke  Govt_job  Never_worked  Private  \\\n",
       "0                228.69  36.6       1         0             0        1   \n",
       "1                202.21  28.1       1         0             0        0   \n",
       "2                105.92  32.5       1         0             0        1   \n",
       "3                171.23  34.4       1         0             0        1   \n",
       "4                174.12  24.0       1         0             0        0   \n",
       "...                 ...   ...     ...       ...           ...      ...   \n",
       "5105              83.75  28.1       0         0             0        1   \n",
       "5106             125.20  40.0       0         0             0        0   \n",
       "5107              82.99  30.6       0         0             0        0   \n",
       "5108             166.29  25.6       0         0             0        1   \n",
       "5109              85.28  26.2       0         1             0        0   \n",
       "\n",
       "      Self-employed  children  Unknown  formerly smoked  never smoked  smokes  \n",
       "0                 0         0        0                1             0       0  \n",
       "1                 1         0        0                0             1       0  \n",
       "2                 0         0        0                0             1       0  \n",
       "3                 0         0        0                0             0       1  \n",
       "4                 1         0        0                0             1       0  \n",
       "...             ...       ...      ...              ...           ...     ...  \n",
       "5105              0         0        0                0             1       0  \n",
       "5106              1         0        0                0             1       0  \n",
       "5107              1         0        0                0             1       0  \n",
       "5108              0         0        0                1             0       0  \n",
       "5109              0         0        1                0             0       0  \n",
       "\n",
       "[5110 rows x 18 columns]"
      ]
     },
     "execution_count": 297,
     "metadata": {},
     "output_type": "execute_result"
    }
   ],
   "source": [
    "data_raw"
   ]
  },
  {
   "cell_type": "markdown",
   "metadata": {},
   "source": [
    "Матрица корреляции:"
   ]
  },
  {
   "cell_type": "code",
   "execution_count": 298,
   "metadata": {},
   "outputs": [
    {
     "data": {
      "text/html": [
       "<div>\n",
       "<style scoped>\n",
       "    .dataframe tbody tr th:only-of-type {\n",
       "        vertical-align: middle;\n",
       "    }\n",
       "\n",
       "    .dataframe tbody tr th {\n",
       "        vertical-align: top;\n",
       "    }\n",
       "\n",
       "    .dataframe thead th {\n",
       "        text-align: right;\n",
       "    }\n",
       "</style>\n",
       "<table border=\"1\" class=\"dataframe\">\n",
       "  <thead>\n",
       "    <tr style=\"text-align: right;\">\n",
       "      <th></th>\n",
       "      <th>age</th>\n",
       "      <th>hypertension</th>\n",
       "      <th>heart_disease</th>\n",
       "      <th>avg_glucose_level</th>\n",
       "      <th>bmi</th>\n",
       "      <th>stroke</th>\n",
       "      <th>Govt_job</th>\n",
       "      <th>Never_worked</th>\n",
       "      <th>Private</th>\n",
       "      <th>Self-employed</th>\n",
       "      <th>children</th>\n",
       "      <th>Unknown</th>\n",
       "      <th>formerly smoked</th>\n",
       "      <th>never smoked</th>\n",
       "      <th>smokes</th>\n",
       "    </tr>\n",
       "  </thead>\n",
       "  <tbody>\n",
       "    <tr>\n",
       "      <th>age</th>\n",
       "      <td>1.000000</td>\n",
       "      <td>0.276398</td>\n",
       "      <td>0.263796</td>\n",
       "      <td>0.238171</td>\n",
       "      <td>0.324296</td>\n",
       "      <td>0.245257</td>\n",
       "      <td>0.130013</td>\n",
       "      <td>-0.078653</td>\n",
       "      <td>0.116534</td>\n",
       "      <td>0.327989</td>\n",
       "      <td>-0.634215</td>\n",
       "      <td>-0.378231</td>\n",
       "      <td>0.236897</td>\n",
       "      <td>0.119307</td>\n",
       "      <td>0.073133</td>\n",
       "    </tr>\n",
       "    <tr>\n",
       "      <th>hypertension</th>\n",
       "      <td>0.276398</td>\n",
       "      <td>1.000000</td>\n",
       "      <td>0.108306</td>\n",
       "      <td>0.174474</td>\n",
       "      <td>0.158293</td>\n",
       "      <td>0.127904</td>\n",
       "      <td>0.017685</td>\n",
       "      <td>-0.021608</td>\n",
       "      <td>-0.005413</td>\n",
       "      <td>0.115442</td>\n",
       "      <td>-0.129506</td>\n",
       "      <td>-0.141501</td>\n",
       "      <td>0.058853</td>\n",
       "      <td>0.065063</td>\n",
       "      <td>0.031240</td>\n",
       "    </tr>\n",
       "    <tr>\n",
       "      <th>heart_disease</th>\n",
       "      <td>0.263796</td>\n",
       "      <td>0.108306</td>\n",
       "      <td>1.000000</td>\n",
       "      <td>0.161857</td>\n",
       "      <td>0.036916</td>\n",
       "      <td>0.134914</td>\n",
       "      <td>0.001330</td>\n",
       "      <td>-0.015712</td>\n",
       "      <td>0.000027</td>\n",
       "      <td>0.086760</td>\n",
       "      <td>-0.091634</td>\n",
       "      <td>-0.066731</td>\n",
       "      <td>0.066804</td>\n",
       "      <td>-0.021856</td>\n",
       "      <td>0.044049</td>\n",
       "    </tr>\n",
       "    <tr>\n",
       "      <th>avg_glucose_level</th>\n",
       "      <td>0.238171</td>\n",
       "      <td>0.174474</td>\n",
       "      <td>0.161857</td>\n",
       "      <td>1.000000</td>\n",
       "      <td>0.166876</td>\n",
       "      <td>0.131945</td>\n",
       "      <td>0.013845</td>\n",
       "      <td>-0.014675</td>\n",
       "      <td>0.016588</td>\n",
       "      <td>0.062694</td>\n",
       "      <td>-0.102250</td>\n",
       "      <td>-0.095131</td>\n",
       "      <td>0.068111</td>\n",
       "      <td>0.023885</td>\n",
       "      <td>0.017646</td>\n",
       "    </tr>\n",
       "    <tr>\n",
       "      <th>bmi</th>\n",
       "      <td>0.324296</td>\n",
       "      <td>0.158293</td>\n",
       "      <td>0.036916</td>\n",
       "      <td>0.166876</td>\n",
       "      <td>1.000000</td>\n",
       "      <td>0.036110</td>\n",
       "      <td>0.077856</td>\n",
       "      <td>-0.028327</td>\n",
       "      <td>0.203886</td>\n",
       "      <td>0.070160</td>\n",
       "      <td>-0.442102</td>\n",
       "      <td>-0.264915</td>\n",
       "      <td>0.103533</td>\n",
       "      <td>0.107636</td>\n",
       "      <td>0.084392</td>\n",
       "    </tr>\n",
       "    <tr>\n",
       "      <th>stroke</th>\n",
       "      <td>0.245257</td>\n",
       "      <td>0.127904</td>\n",
       "      <td>0.134914</td>\n",
       "      <td>0.131945</td>\n",
       "      <td>0.036110</td>\n",
       "      <td>1.000000</td>\n",
       "      <td>0.002677</td>\n",
       "      <td>-0.014882</td>\n",
       "      <td>0.011888</td>\n",
       "      <td>0.062168</td>\n",
       "      <td>-0.083869</td>\n",
       "      <td>-0.055892</td>\n",
       "      <td>0.064556</td>\n",
       "      <td>-0.004129</td>\n",
       "      <td>0.008939</td>\n",
       "    </tr>\n",
       "    <tr>\n",
       "      <th>Govt_job</th>\n",
       "      <td>0.130013</td>\n",
       "      <td>0.017685</td>\n",
       "      <td>0.001330</td>\n",
       "      <td>0.013845</td>\n",
       "      <td>0.077856</td>\n",
       "      <td>0.002677</td>\n",
       "      <td>1.000000</td>\n",
       "      <td>-0.025258</td>\n",
       "      <td>-0.444420</td>\n",
       "      <td>-0.167810</td>\n",
       "      <td>-0.151383</td>\n",
       "      <td>-0.097418</td>\n",
       "      <td>0.029686</td>\n",
       "      <td>0.046908</td>\n",
       "      <td>0.030026</td>\n",
       "    </tr>\n",
       "    <tr>\n",
       "      <th>Never_worked</th>\n",
       "      <td>-0.078653</td>\n",
       "      <td>-0.021608</td>\n",
       "      <td>-0.015712</td>\n",
       "      <td>-0.014675</td>\n",
       "      <td>-0.028327</td>\n",
       "      <td>-0.014882</td>\n",
       "      <td>-0.025258</td>\n",
       "      <td>1.000000</td>\n",
       "      <td>-0.076081</td>\n",
       "      <td>-0.028728</td>\n",
       "      <td>-0.025915</td>\n",
       "      <td>0.008804</td>\n",
       "      <td>-0.030095</td>\n",
       "      <td>0.036238</td>\n",
       "      <td>-0.028099</td>\n",
       "    </tr>\n",
       "    <tr>\n",
       "      <th>Private</th>\n",
       "      <td>0.116534</td>\n",
       "      <td>-0.005413</td>\n",
       "      <td>0.000027</td>\n",
       "      <td>0.016588</td>\n",
       "      <td>0.203886</td>\n",
       "      <td>0.011888</td>\n",
       "      <td>-0.444420</td>\n",
       "      <td>-0.076081</td>\n",
       "      <td>1.000000</td>\n",
       "      <td>-0.505475</td>\n",
       "      <td>-0.455992</td>\n",
       "      <td>-0.210013</td>\n",
       "      <td>0.025526</td>\n",
       "      <td>0.104860</td>\n",
       "      <td>0.100025</td>\n",
       "    </tr>\n",
       "    <tr>\n",
       "      <th>Self-employed</th>\n",
       "      <td>0.327989</td>\n",
       "      <td>0.115442</td>\n",
       "      <td>0.086760</td>\n",
       "      <td>0.062694</td>\n",
       "      <td>0.070160</td>\n",
       "      <td>0.062168</td>\n",
       "      <td>-0.167810</td>\n",
       "      <td>-0.028728</td>\n",
       "      <td>-0.505475</td>\n",
       "      <td>1.000000</td>\n",
       "      <td>-0.172180</td>\n",
       "      <td>-0.106250</td>\n",
       "      <td>0.093260</td>\n",
       "      <td>0.030668</td>\n",
       "      <td>-0.003626</td>\n",
       "    </tr>\n",
       "    <tr>\n",
       "      <th>children</th>\n",
       "      <td>-0.634215</td>\n",
       "      <td>-0.129506</td>\n",
       "      <td>-0.091634</td>\n",
       "      <td>-0.102250</td>\n",
       "      <td>-0.442102</td>\n",
       "      <td>-0.083869</td>\n",
       "      <td>-0.151383</td>\n",
       "      <td>-0.025915</td>\n",
       "      <td>-0.455992</td>\n",
       "      <td>-0.172180</td>\n",
       "      <td>1.000000</td>\n",
       "      <td>0.512743</td>\n",
       "      <td>-0.160668</td>\n",
       "      <td>-0.238041</td>\n",
       "      <td>-0.165234</td>\n",
       "    </tr>\n",
       "    <tr>\n",
       "      <th>Unknown</th>\n",
       "      <td>-0.378231</td>\n",
       "      <td>-0.141501</td>\n",
       "      <td>-0.066731</td>\n",
       "      <td>-0.095131</td>\n",
       "      <td>-0.264915</td>\n",
       "      <td>-0.055892</td>\n",
       "      <td>-0.097418</td>\n",
       "      <td>0.008804</td>\n",
       "      <td>-0.210013</td>\n",
       "      <td>-0.106250</td>\n",
       "      <td>0.512743</td>\n",
       "      <td>1.000000</td>\n",
       "      <td>-0.301156</td>\n",
       "      <td>-0.504546</td>\n",
       "      <td>-0.281177</td>\n",
       "    </tr>\n",
       "    <tr>\n",
       "      <th>formerly smoked</th>\n",
       "      <td>0.236897</td>\n",
       "      <td>0.058853</td>\n",
       "      <td>0.066804</td>\n",
       "      <td>0.068111</td>\n",
       "      <td>0.103533</td>\n",
       "      <td>0.064556</td>\n",
       "      <td>0.029686</td>\n",
       "      <td>-0.030095</td>\n",
       "      <td>0.025526</td>\n",
       "      <td>0.093260</td>\n",
       "      <td>-0.160668</td>\n",
       "      <td>-0.301156</td>\n",
       "      <td>1.000000</td>\n",
       "      <td>-0.350934</td>\n",
       "      <td>-0.195571</td>\n",
       "    </tr>\n",
       "    <tr>\n",
       "      <th>never smoked</th>\n",
       "      <td>0.119307</td>\n",
       "      <td>0.065063</td>\n",
       "      <td>-0.021856</td>\n",
       "      <td>0.023885</td>\n",
       "      <td>0.107636</td>\n",
       "      <td>-0.004129</td>\n",
       "      <td>0.046908</td>\n",
       "      <td>0.036238</td>\n",
       "      <td>0.104860</td>\n",
       "      <td>0.030668</td>\n",
       "      <td>-0.238041</td>\n",
       "      <td>-0.504546</td>\n",
       "      <td>-0.350934</td>\n",
       "      <td>1.000000</td>\n",
       "      <td>-0.327653</td>\n",
       "    </tr>\n",
       "    <tr>\n",
       "      <th>smokes</th>\n",
       "      <td>0.073133</td>\n",
       "      <td>0.031240</td>\n",
       "      <td>0.044049</td>\n",
       "      <td>0.017646</td>\n",
       "      <td>0.084392</td>\n",
       "      <td>0.008939</td>\n",
       "      <td>0.030026</td>\n",
       "      <td>-0.028099</td>\n",
       "      <td>0.100025</td>\n",
       "      <td>-0.003626</td>\n",
       "      <td>-0.165234</td>\n",
       "      <td>-0.281177</td>\n",
       "      <td>-0.195571</td>\n",
       "      <td>-0.327653</td>\n",
       "      <td>1.000000</td>\n",
       "    </tr>\n",
       "  </tbody>\n",
       "</table>\n",
       "</div>"
      ],
      "text/plain": [
       "                        age  hypertension  heart_disease  avg_glucose_level  \\\n",
       "age                1.000000      0.276398       0.263796           0.238171   \n",
       "hypertension       0.276398      1.000000       0.108306           0.174474   \n",
       "heart_disease      0.263796      0.108306       1.000000           0.161857   \n",
       "avg_glucose_level  0.238171      0.174474       0.161857           1.000000   \n",
       "bmi                0.324296      0.158293       0.036916           0.166876   \n",
       "stroke             0.245257      0.127904       0.134914           0.131945   \n",
       "Govt_job           0.130013      0.017685       0.001330           0.013845   \n",
       "Never_worked      -0.078653     -0.021608      -0.015712          -0.014675   \n",
       "Private            0.116534     -0.005413       0.000027           0.016588   \n",
       "Self-employed      0.327989      0.115442       0.086760           0.062694   \n",
       "children          -0.634215     -0.129506      -0.091634          -0.102250   \n",
       "Unknown           -0.378231     -0.141501      -0.066731          -0.095131   \n",
       "formerly smoked    0.236897      0.058853       0.066804           0.068111   \n",
       "never smoked       0.119307      0.065063      -0.021856           0.023885   \n",
       "smokes             0.073133      0.031240       0.044049           0.017646   \n",
       "\n",
       "                        bmi    stroke  Govt_job  Never_worked   Private  \\\n",
       "age                0.324296  0.245257  0.130013     -0.078653  0.116534   \n",
       "hypertension       0.158293  0.127904  0.017685     -0.021608 -0.005413   \n",
       "heart_disease      0.036916  0.134914  0.001330     -0.015712  0.000027   \n",
       "avg_glucose_level  0.166876  0.131945  0.013845     -0.014675  0.016588   \n",
       "bmi                1.000000  0.036110  0.077856     -0.028327  0.203886   \n",
       "stroke             0.036110  1.000000  0.002677     -0.014882  0.011888   \n",
       "Govt_job           0.077856  0.002677  1.000000     -0.025258 -0.444420   \n",
       "Never_worked      -0.028327 -0.014882 -0.025258      1.000000 -0.076081   \n",
       "Private            0.203886  0.011888 -0.444420     -0.076081  1.000000   \n",
       "Self-employed      0.070160  0.062168 -0.167810     -0.028728 -0.505475   \n",
       "children          -0.442102 -0.083869 -0.151383     -0.025915 -0.455992   \n",
       "Unknown           -0.264915 -0.055892 -0.097418      0.008804 -0.210013   \n",
       "formerly smoked    0.103533  0.064556  0.029686     -0.030095  0.025526   \n",
       "never smoked       0.107636 -0.004129  0.046908      0.036238  0.104860   \n",
       "smokes             0.084392  0.008939  0.030026     -0.028099  0.100025   \n",
       "\n",
       "                   Self-employed  children   Unknown  formerly smoked  \\\n",
       "age                     0.327989 -0.634215 -0.378231         0.236897   \n",
       "hypertension            0.115442 -0.129506 -0.141501         0.058853   \n",
       "heart_disease           0.086760 -0.091634 -0.066731         0.066804   \n",
       "avg_glucose_level       0.062694 -0.102250 -0.095131         0.068111   \n",
       "bmi                     0.070160 -0.442102 -0.264915         0.103533   \n",
       "stroke                  0.062168 -0.083869 -0.055892         0.064556   \n",
       "Govt_job               -0.167810 -0.151383 -0.097418         0.029686   \n",
       "Never_worked           -0.028728 -0.025915  0.008804        -0.030095   \n",
       "Private                -0.505475 -0.455992 -0.210013         0.025526   \n",
       "Self-employed           1.000000 -0.172180 -0.106250         0.093260   \n",
       "children               -0.172180  1.000000  0.512743        -0.160668   \n",
       "Unknown                -0.106250  0.512743  1.000000        -0.301156   \n",
       "formerly smoked         0.093260 -0.160668 -0.301156         1.000000   \n",
       "never smoked            0.030668 -0.238041 -0.504546        -0.350934   \n",
       "smokes                 -0.003626 -0.165234 -0.281177        -0.195571   \n",
       "\n",
       "                   never smoked    smokes  \n",
       "age                    0.119307  0.073133  \n",
       "hypertension           0.065063  0.031240  \n",
       "heart_disease         -0.021856  0.044049  \n",
       "avg_glucose_level      0.023885  0.017646  \n",
       "bmi                    0.107636  0.084392  \n",
       "stroke                -0.004129  0.008939  \n",
       "Govt_job               0.046908  0.030026  \n",
       "Never_worked           0.036238 -0.028099  \n",
       "Private                0.104860  0.100025  \n",
       "Self-employed          0.030668 -0.003626  \n",
       "children              -0.238041 -0.165234  \n",
       "Unknown               -0.504546 -0.281177  \n",
       "formerly smoked       -0.350934 -0.195571  \n",
       "never smoked           1.000000 -0.327653  \n",
       "smokes                -0.327653  1.000000  "
      ]
     },
     "execution_count": 298,
     "metadata": {},
     "output_type": "execute_result"
    }
   ],
   "source": [
    "corr_mat = data_raw.corr()\n",
    "corr_mat"
   ]
  },
  {
   "cell_type": "code",
   "execution_count": 299,
   "metadata": {},
   "outputs": [
    {
     "data": {
      "image/png": "[encoded data removed]",
      "text/plain": [
       "<Figure size 432x288 with 2 Axes>"
      ]
     },
     "metadata": {
      "needs_background": "light"
     },
     "output_type": "display_data"
    }
   ],
   "source": [
    "sns.heatmap(corr_mat, square=True, cmap='coolwarm')\n",
    "pass"
   ]
  },
  {
   "cell_type": "code",
   "execution_count": 300,
   "metadata": {},
   "outputs": [
    {
     "data": {
      "image/png": "[encoded data removed]",
      "text/plain": [
       "<Figure size 432x288 with 2 Axes>"
      ]
     },
     "metadata": {
      "needs_background": "light"
     },
     "output_type": "display_data"
    }
   ],
   "source": [
    "sns.heatmap(corr_mat, square=True, vmin = -1, vmax = 1, cmap ='coolwarm')\n",
    "pass"
   ]
  },
  {
   "cell_type": "markdown",
   "metadata": {},
   "source": [
    "На матрице корреляции для преобразованных данных хорошо видны очевидные закономерности: \n",
    "\n",
    "Чем младше участник опроса, тем вероятнее его типом занятости будет \"Ребенок\";\n",
    "\n",
    "Чем старше пациент, тем выше его индекс массы тела;\n",
    "\n",
    "Чем старше участник, тем вероятнее, что когда-либо он пробовал курить;\n",
    "\n",
    "Чем старше участник, тем выше шанс, что он сталкивался с гипертонией, проблем с сердцем и тем вероятнее у него может быть инсульт;\n",
    "\n",
    "Среди более старшего поколения больлше самозанятых и меньше тех, кто никогда не работал\n",
    "\n",
    "И т.д."
   ]
  },
  {
   "cell_type": "code",
   "execution_count": null,
   "metadata": {},
   "outputs": [],
   "source": [
    "random_subset = numpy.random.choice(numpy.arange(data_raw.shape[0]), size=500, replace=False)\n",
    "seaborn.pairplot(data_raw.iloc[random_subset], hue='stroke', diag_kind='hist')"
   ]
  },
  {
   "cell_type": "markdown",
   "metadata": {},
   "source": [
    "Нормализуем колличественные признаки:"
   ]
  },
  {
   "cell_type": "code",
   "execution_count": null,
   "metadata": {},
   "outputs": [],
   "source": [
    "data_raw['age'] = (data_raw['age'] - data_raw['age'].mean(axis=0))/data_raw['age'].std(axis=0)\n",
    "data_raw['avg_glucose_level'] = (data_raw['avg_glucose_level'] - data_raw['avg_glucose_level'].mean(axis=0))/data_raw['avg_glucose_level'].std(axis=0)\n",
    "data_raw['bmi'] = (data_raw['bmi'] - data_raw['bmi'].mean(axis=0))/data_raw['bmi'].std(axis=0)"
   ]
  },
  {
   "cell_type": "code",
   "execution_count": null,
   "metadata": {},
   "outputs": [],
   "source": [
    "data_raw.describe()"
   ]
  },
  {
   "cell_type": "markdown",
   "metadata": {},
   "source": [
    "### Классификация"
   ]
  },
  {
   "cell_type": "code",
   "execution_count": null,
   "metadata": {},
   "outputs": [],
   "source": [
    "import sklearn\n",
    "import sklearn.model_selection\n",
    "import sklearn.neighbors\n",
    "import sklearn.ensemble"
   ]
  },
  {
   "cell_type": "markdown",
   "metadata": {},
   "source": [
    "Разделим данные на тестовую и обучающую выборки в соотношении 1:3"
   ]
  },
  {
   "cell_type": "code",
   "execution_count": null,
   "metadata": {},
   "outputs": [],
   "source": [
    "x = data_raw.drop(['stroke'], axis=1)\n",
    "y = data_raw['stroke']\n",
    "x_train, x_test, y_train, y_test = sklearn.model_selection.train_test_split(x, y, test_size=0.25, random_state=43)"
   ]
  },
  {
   "cell_type": "markdown",
   "metadata": {},
   "source": [
    "#### Классификатор К ближайших соседей"
   ]
  },
  {
   "cell_type": "markdown",
   "metadata": {},
   "source": [
    "Рассмотрим разное колличество соседей: 3 и 6"
   ]
  },
  {
   "cell_type": "code",
   "execution_count": null,
   "metadata": {},
   "outputs": [],
   "source": [
    "model = sklearn.neighbors.KNeighborsClassifier(n_neighbors=3)\n",
    "model.fit(x_train.values, y_train.values)\n",
    "y_train_pred = model.predict(x_train.values)\n",
    "y_test_pred = model.predict(x_test.values)\n",
    "print(\"Train: {}, Test: {}\".format(sklearn.metrics.mean_squared_error(y_train, y_train_pred), sklearn.metrics.mean_squared_error(y_test, y_test_pred)))"
   ]
  },
  {
   "cell_type": "code",
   "execution_count": null,
   "metadata": {},
   "outputs": [],
   "source": [
    "model = sklearn.neighbors.KNeighborsClassifier(n_neighbors=6)\n",
    "model.fit(x_train.values, y_train.values)\n",
    "y_train_pred = model.predict(x_train.values)\n",
    "y_test_pred = model.predict(x_test.values)\n",
    "print(\"Train: {}, Test: {}\".format(sklearn.metrics.mean_squared_error(y_train, y_train_pred), sklearn.metrics.mean_squared_error(y_test, y_test_pred)))"
   ]
  },
  {
   "cell_type": "markdown",
   "metadata": {},
   "source": [
    "Random forest"
   ]
  },
  {
   "cell_type": "code",
   "execution_count": null,
   "metadata": {},
   "outputs": [],
   "source": [
    "model = sklearn.ensemble.RandomForestClassifier()\n",
    "model.fit(x_train.values, y_train.values)\n",
    "y_train_pred = model.predict(x_train.values)\n",
    "y_test_pred = model.predict(x_test.values)\n",
    "print(\"Train: {}, Test: {}\".format(sklearn.metrics.mean_squared_error(y_train, y_train_pred), sklearn.metrics.mean_squared_error(y_test, y_test_pred)))"
   ]
  },
  {
   "cell_type": "markdown",
   "metadata": {},
   "source": [
    "## Выводы"
   ]
  },
  {
   "cell_type": "markdown",
   "metadata": {},
   "source": [
    "С увеличением числа соседей погрешность может уменьшаться, т. е. увеличиваться точность классификатора\n",
    "Классификатор Random forest дает погрешность, схожую с погрешностью классификатора k-соседей"
   ]
  },
  {
   "cell_type": "markdown",
   "metadata": {},
   "source": [
    "# Обучение нейронной сети"
   ]
  },
  {
   "cell_type": "markdown",
   "metadata": {},
   "source": [
    "## Разбиваем данные в соотношении 1:3 "
   ]
  },
  {
   "cell_type": "markdown",
   "metadata": {},
   "source": [
    "### Для начала избавимся от несбалансированности "
   ]
  },
  {
   "cell_type": "code",
   "execution_count": null,
   "metadata": {},
   "outputs": [],
   "source": [
    "data_raw_old=data_raw\n",
    "count = len(data_raw.loc[data_raw['stroke']==False])//len(data_raw.loc[data_raw['stroke']==True])\n",
    "data_unsamp = data_raw.loc[data_raw['stroke']==True]\n",
    "data_unsamp = data_unsamp.loc[data_unsamp.index.repeat(count)]\n",
    "data_unsamp = pd.concat([data_raw.loc[data_raw['stroke']==False], data_unsamp]).sample(frac=1)\n",
    "data_unsamp['stroke'].value_counts()\n",
    "data_raw=data_unsamp\n",
    "\n",
    "x = data_raw.drop(['stroke'], axis=1)\n",
    "y = data_raw['stroke']\n",
    "x_train, x_test, y_train, y_test = sklearn.model_selection.train_test_split(x, y, test_size=0.25, random_state=42)\n",
    "x_train=x_train.to_numpy()\n",
    "x_test=x_test.to_numpy()\n",
    "min_test_error = numpy.min(test_error)"
   ]
  },
  {
   "cell_type": "code",
   "execution_count": null,
   "metadata": {},
   "outputs": [],
   "source": [
    "sns.countplot(x = 'stroke', data = data_raw)"
   ]
  },
  {
   "cell_type": "markdown",
   "metadata": {},
   "source": [
    "## Обучаем классификатор"
   ]
  },
  {
   "cell_type": "code",
   "execution_count": null,
   "metadata": {},
   "outputs": [],
   "source": [
    "mlp_model = MLPClassifier(hidden_layer_sizes = (100,),\n",
    "                          solver = 'lbfgs', \n",
    "                          activation = 'logistic',\n",
    "                          max_iter=1500,\n",
    "                          random_state = 42)"
   ]
  },
  {
   "cell_type": "code",
   "execution_count": null,
   "metadata": {
    "scrolled": true
   },
   "outputs": [],
   "source": [
    "%%time\n",
    "mlp_model.fit(x_train, y_train)"
   ]
  },
  {
   "cell_type": "markdown",
   "metadata": {},
   "source": [
    "\n",
    "## Проверка качества классификатора"
   ]
  },
  {
   "cell_type": "code",
   "execution_count": null,
   "metadata": {},
   "outputs": [],
   "source": [
    "y_train_pred = mlp_model.predict(x_train)\n",
    "y_test_pred = mlp_model.predict(x_test)"
   ]
  },
  {
   "cell_type": "code",
   "execution_count": null,
   "metadata": {},
   "outputs": [],
   "source": [
    "from sklearn.metrics import accuracy_score\n",
    "print('[Accuracy]\\n')\n",
    "print('Train: {}, Test: {}'.format(\n",
    "    sklearn.metrics.accuracy_score(y_train, y_train_pred),\n",
    "    sklearn.metrics.accuracy_score(y_test, y_test_pred)\n",
    "))"
   ]
  },
  {
   "cell_type": "code",
   "execution_count": null,
   "metadata": {},
   "outputs": [],
   "source": [
    "import warnings\n",
    "from sklearn.exceptions import ConvergenceWarning \n",
    "warnings.filterwarnings(\"ignore\", category=ConvergenceWarning) "
   ]
  },
  {
   "cell_type": "markdown",
   "metadata": {},
   "source": [
    "## Подбор  гипер параметров"
   ]
  },
  {
   "cell_type": "markdown",
   "metadata": {},
   "source": [
    "Подберем параметр alpha"
   ]
  },
  {
   "cell_type": "code",
   "execution_count": null,
   "metadata": {
    "scrolled": true
   },
   "outputs": [],
   "source": [
    "alpha_arr = np.logspace(-3, 2, 20)\n",
    "test_err = []\n",
    "train_err = []\n",
    "train_acc = []\n",
    "test_acc = []\n",
    "\n",
    "for alpha in alpha_arr:\n",
    "    mlp_model = MLPClassifier(alpha = alpha, hidden_layer_sizes = (100,), \n",
    "                              solver = 'lbfgs', activation = 'logistic', max_iter=1500, random_state = 42)\n",
    "    mlp_model.fit(x_train, y_train)\n",
    "\n",
    "    y_train_pred = mlp_model.predict(x_train)\n",
    "    y_test_pred = mlp_model.predict(x_test)\n",
    "    \n",
    "    train_err.append(np.mean(y_train != y_train_pred))\n",
    "    test_err.append(np.mean(y_test != y_test_pred))\n",
    "    train_acc.append(accuracy_score(y_train, y_train_pred))\n",
    "    test_acc.append(accuracy_score(y_test, y_test_pred))"
   ]
  },
  {
   "cell_type": "code",
   "execution_count": null,
   "metadata": {},
   "outputs": [],
   "source": [
    "plt.semilogx(alpha_arr, train_err, 'b-o', label = 'train')\n",
    "plt.semilogx(alpha_arr, test_err, 'r-o', label = 'test')\n",
    "plt.xlim([np.min(alpha_arr), np.max(alpha_arr)])\n",
    "plt.title('Error vs. alpha')\n",
    "plt.xlabel('alpha')\n",
    "plt.ylabel('error')\n",
    "plt.legend()"
   ]
  },
  {
   "cell_type": "code",
   "execution_count": null,
   "metadata": {},
   "outputs": [],
   "source": [
    "plt.semilogx(alpha_arr, train_acc, 'r-o', label = 'train')\n",
    "plt.semilogx(alpha_arr, test_acc, 'b-o', label = 'test')\n",
    "plt.xlim([np.min(alpha_arr), np.max(alpha_arr)])\n",
    "plt.title('Accuracy vs. alpha')\n",
    "plt.xlabel('alpha')\n",
    "plt.ylabel('Accuracy')\n",
    "plt.legend()"
   ]
  },
  {
   "cell_type": "code",
   "execution_count": null,
   "metadata": {},
   "outputs": [],
   "source": [
    "min_train_err = np.min(train_err)\n",
    "min_test_err = np.min(test_err)\n",
    "print(min_train_err, min_test_err)"
   ]
  },
  {
   "cell_type": "code",
   "execution_count": null,
   "metadata": {},
   "outputs": [],
   "source": [
    "alpha_opt = alpha_arr[test_err == min_test_err]\n",
    "print(alpha_opt)"
   ]
  },
  {
   "cell_type": "code",
   "execution_count": null,
   "metadata": {},
   "outputs": [],
   "source": [
    "alpha_opt = alpha_opt[0]"
   ]
  },
  {
   "cell_type": "markdown",
   "metadata": {},
   "source": [
    "Построим график зависимости ошибки от числа нейронов:"
   ]
  },
  {
   "cell_type": "code",
   "execution_count": null,
   "metadata": {},
   "outputs": [],
   "source": [
    "neurons = numpy.linspace(1, 1000, 20).astype(int)\n",
    "test_error = []\n",
    "train_error = []\n",
    "\n",
    "for neuron_count in neurons:\n",
    "    model = MLPClassifier(\n",
    "        alpha=alpha_opt,\n",
    "        hidden_layer_sizes=(neuron_count,),\n",
    "        solver='lbfgs',\n",
    "        activation ='logistic',\n",
    "        max_iter=1500,\n",
    "        random_state = 42\n",
    "    )\n",
    "    model.fit(x_train, y_train)\n",
    "\n",
    "    y_train_pred = model.predict(x_train)\n",
    "    y_test_pred = model.predict(x_test)\n",
    "\n",
    "    test_error.append(numpy.mean(y_test != y_test_pred))\n",
    "    train_error.append(numpy.mean(y_train != y_train_pred))\n"
   ]
  },
  {
   "cell_type": "code",
   "execution_count": null,
   "metadata": {},
   "outputs": [],
   "source": [
    "plt.plot(neurons, train_error, 'r-o', label='train')\n",
    "plt.plot(neurons, test_error, 'b-o', label='test')\n",
    "plt.xlim([numpy.min(neurons), numpy.max(neurons)])\n",
    "plt.xlabel('neuron count')\n",
    "plt.ylabel('error')\n",
    "plt.legend()"
   ]
  },
  {
   "cell_type": "code",
   "execution_count": null,
   "metadata": {},
   "outputs": [],
   "source": [
    "min_test_error = numpy.min(test_error)\n",
    "min_test_error"
   ]
  },
  {
   "cell_type": "code",
   "execution_count": null,
   "metadata": {},
   "outputs": [],
   "source": [
    "neurons_optimal = neurons[test_error == min_test_error][0]\n",
    "print('Optimal neuron count: {}'.format(neurons_optimal))"
   ]
  },
  {
   "cell_type": "code",
   "execution_count": null,
   "metadata": {},
   "outputs": [],
   "source": [
    "mlp_model = MLPClassifier(alpha = alpha_opt, hidden_layer_sizes = (neurons_optimal,),\n",
    "                          solver = 'lbfgs', activation = 'logistic', max_iter=1500, random_state = 42)\n",
    "mlp_model.fit(x_train, y_train)\n",
    "\n",
    "y_train_pred = mlp_model.predict(x_train)\n",
    "y_test_pred = mlp_model.predict(x_test)\n",
    "print(np.mean(y_train != y_train_pred))\n",
    "print(np.mean(y_test != y_test_pred))\n",
    "min_test_error = numpy.min(test_error)\n",
    "print(min_test_error)\n",
    "\n",
    "print('[Accuracy on optimized]\\n')\n",
    "print('Train: {}, Test: {}'.format(\n",
    "    sklearn.metrics.accuracy_score(y_train, y_train_pred),\n",
    "    sklearn.metrics.accuracy_score(y_test, y_test_pred)\n",
    "))"
   ]
  },
  {
   "cell_type": "code",
   "execution_count": null,
   "metadata": {},
   "outputs": [],
   "source": [
    "from sklearn.metrics import confusion_matrix\n",
    "print(confusion_matrix(y_test_pred, y_test))"
   ]
  },
  {
   "cell_type": "code",
   "execution_count": null,
   "metadata": {},
   "outputs": [],
   "source": [
    "confusion_maxtrix = sklearn.metrics.confusion_matrix(y_test, y_test_pred, labels=model.classes_)\n",
    "confusion_maxtrix_display = sklearn.metrics.ConfusionMatrixDisplay(confusion_matrix=confusion_maxtrix, display_labels=model.classes_)\n",
    "confusion_maxtrix_display.plot()\n",
    "plt.show()\n"
   ]
  },
  {
   "cell_type": "markdown",
   "metadata": {},
   "source": [
    "Таким образом, оптимальные значения для alpha и числа нейронов равно:"
   ]
  },
  {
   "cell_type": "code",
   "execution_count": null,
   "metadata": {},
   "outputs": [],
   "source": [
    "print (alpha_opt, neurons_optimal)"
   ]
  },
  {
   "cell_type": "code",
   "execution_count": null,
   "metadata": {},
   "outputs": [],
   "source": [
    "print('[Accuracy on optimized]\\n')\n",
    "print('Train: {}, Test: {}'.format(\n",
    "    sklearn.metrics.accuracy_score(y_train, y_train_pred),\n",
    "    sklearn.metrics.accuracy_score(y_test, y_test_pred)\n",
    "))"
   ]
  },
  {
   "cell_type": "markdown",
   "metadata": {},
   "source": [
    "## Посмотрим, какой результат мы получим при наличии несбалансированности: "
   ]
  },
  {
   "cell_type": "code",
   "execution_count": null,
   "metadata": {},
   "outputs": [],
   "source": [
    "data_raw=data_raw_old\n",
    "x = data_raw.drop(['stroke'], axis=1)\n",
    "y = data_raw['stroke']\n",
    "x_train, x_test, y_train, y_test = sklearn.model_selection.train_test_split(x, y, test_size=0.25, random_state=42)\n",
    "x_train=x_train.to_numpy()\n",
    "x_test=x_test.to_numpy()"
   ]
  },
  {
   "cell_type": "code",
   "execution_count": null,
   "metadata": {},
   "outputs": [],
   "source": [
    "mlp_model = MLPClassifier(hidden_layer_sizes = (100,),\n",
    "                          solver = 'lbfgs', \n",
    "                          activation = 'logistic',\n",
    "                          max_iter=1500,\n",
    "                          random_state = 42)"
   ]
  },
  {
   "cell_type": "code",
   "execution_count": null,
   "metadata": {
    "scrolled": true
   },
   "outputs": [],
   "source": [
    "%%time\n",
    "mlp_model.fit(x_train, y_train)"
   ]
  },
  {
   "cell_type": "code",
   "execution_count": null,
   "metadata": {},
   "outputs": [],
   "source": [
    "y_train_pred = mlp_model.predict(x_train)\n",
    "y_test_pred = mlp_model.predict(x_test)\n",
    "from sklearn.metrics import accuracy_score\n",
    "print('[Accuracy]\\n')\n",
    "print('Train: {}, Test: {}'.format(\n",
    "    sklearn.metrics.accuracy_score(y_train, y_train_pred),\n",
    "    sklearn.metrics.accuracy_score(y_test, y_test_pred)\n",
    "))"
   ]
  },
  {
   "cell_type": "code",
   "execution_count": null,
   "metadata": {},
   "outputs": [],
   "source": [
    "import warnings\n",
    "from sklearn.exceptions import ConvergenceWarning \n",
    "warnings.filterwarnings(\"ignore\", category=ConvergenceWarning) "
   ]
  },
  {
   "cell_type": "code",
   "execution_count": null,
   "metadata": {},
   "outputs": [],
   "source": [
    "alpha_arr = np.logspace(-3, 2, 20)\n",
    "test_err = []\n",
    "train_err = []\n",
    "train_acc = []\n",
    "test_acc = []\n",
    "\n",
    "for alpha in alpha_arr:\n",
    "    mlp_model = MLPClassifier(alpha = alpha, hidden_layer_sizes = (100,), \n",
    "                              solver = 'lbfgs', activation = 'logistic', max_iter=1500, random_state = 42)\n",
    "    mlp_model.fit(x_train, y_train)\n",
    "\n",
    "    y_train_pred = mlp_model.predict(x_train)\n",
    "    y_test_pred = mlp_model.predict(x_test)\n",
    "    \n",
    "    train_err.append(np.mean(y_train != y_train_pred))\n",
    "    test_err.append(np.mean(y_test != y_test_pred))\n",
    "    train_acc.append(accuracy_score(y_train, y_train_pred))\n",
    "    test_acc.append(accuracy_score(y_test, y_test_pred))\n",
    "min_train_err = np.min(train_err)\n",
    "min_test_err = np.min(test_err)\n",
    "alpha_opt = alpha_arr[test_err == min_test_err]\n",
    "alpha_opt = alpha_opt[0]"
   ]
  },
  {
   "cell_type": "code",
   "execution_count": null,
   "metadata": {},
   "outputs": [],
   "source": [
    "neurons = numpy.linspace(1, 1000, 20).astype(int)\n",
    "test_error = []\n",
    "train_error = []\n",
    "\n",
    "for neuron_count in neurons:\n",
    "    model = MLPClassifier(\n",
    "        alpha=alpha_opt,\n",
    "        hidden_layer_sizes=(neuron_count,),\n",
    "        solver='lbfgs',\n",
    "        activation ='logistic',\n",
    "        max_iter=1500,\n",
    "        random_state = 42\n",
    "    )\n",
    "    model.fit(x_train, y_train)\n",
    "\n",
    "    y_train_pred = model.predict(x_train)\n",
    "    y_test_pred = model.predict(x_test)\n",
    "\n",
    "    test_error.append(numpy.mean(y_test != y_test_pred))\n",
    "    train_error.append(numpy.mean(y_train != y_train_pred)\n",
    "min_test_error = numpy.min(test_error)\n",
    "neurons_optimal = neurons[test_error == min_test_error][0]"
   ]
  },
  {
   "cell_type": "code",
   "execution_count": null,
   "metadata": {},
   "outputs": [],
   "source": [
    "mlp_model = MLPClassifier(alpha = alpha_opt, hidden_layer_sizes = (neurons_optimal,),\n",
    "                          solver = 'lbfgs', activation = 'logistic', max_iter=1500, random_state = 42)\n",
    "mlp_model.fit(x_train, y_train)\n",
    "\n",
    "y_train_pred = mlp_model.predict(x_train)\n",
    "y_test_pred = mlp_model.predict(x_test)\n",
    "print(np.mean(y_train != y_train_pred))\n",
    "print(np.mean(y_test != y_test_pred))\n",
    "min_test_error = numpy.min(test_error)\n",
    "print(min_test_error)\n",
    "\n",
    "print('[Accuracy on optimized]\\n')\n",
    "print('Train: {}, Test: {}'.format(\n",
    "    sklearn.metrics.accuracy_score(y_train, y_train_pred),\n",
    "    sklearn.metrics.accuracy_score(y_test, y_test_pred)\n",
    "))"
   ]
  },
  {
   "cell_type": "code",
   "execution_count": null,
   "metadata": {},
   "outputs": [],
   "source": [
    "from sklearn.metrics import confusion_matrix\n",
    "print(confusion_matrix(y_test_pred, y_test))"
   ]
  },
  {
   "cell_type": "code",
   "execution_count": null,
   "metadata": {},
   "outputs": [],
   "source": [
    "confusion_maxtrix = sklearn.metrics.confusion_matrix(y_test, y_test_pred, labels=model.classes_)\n",
    "confusion_maxtrix_display = sklearn.metrics.ConfusionMatrixDisplay(confusion_matrix=confusion_maxtrix, display_labels=model.classes_)\n",
    "confusion_maxtrix_display.plot()\n",
    "plt.show()"
   ]
  },
  {
   "cell_type": "markdown",
   "metadata": {},
   "source": [
    "## При заданных значениях мы получаем неплохие результаты: в большинстве случаев модель смогла угадать наличие и отсутствие инсульта. Такой разультат получился в том числе благодаря избавлению от несбалансированности\n",
    " \n",
    "## После запуска модели с оптимальными значениями мы смогли немного улучшить результаты в сравнении с запуском при произвольных параметрах. Так же мы можем увидеть, что при отсутствии сбалансированности, результат на тестовой выборке был хуже: подавляющее большинство случаев возникновения инфаркта не были предсказаны"
   ]
  }
 ],
 "metadata": {
  "kernelspec": {
   "display_name": "Python 3",
   "language": "python",
   "name": "python3"
  }
 },
 "nbformat": 4,
 "nbformat_minor": 4
}
